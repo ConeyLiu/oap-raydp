{
 "cells": [
  {
   "cell_type": "code",
   "execution_count": 1,
   "metadata": {},
   "outputs": [],
   "source": [
    "import os\n",
    "from collections import OrderedDict\n",
    "from contextlib import contextmanager\n",
    "from operator import itemgetter\n",
    "from time import time\n",
    "\n",
    "from pyspark import broadcast\n",
    "from pyspark.sql import SparkSession, Window\n",
    "from pyspark.sql.functions import *\n",
    "from pyspark.sql.types import *"
   ]
  },
  {
   "cell_type": "code",
   "execution_count": 2,
   "metadata": {},
   "outputs": [],
   "source": [
    "LABEL_COL = 0\n",
    "INT_COLS = list(range(1, 14))\n",
    "CAT_COLS = list(range(14, 40))"
   ]
  },
  {
   "cell_type": "code",
   "execution_count": null,
   "metadata": {},
   "outputs": [],
   "source": [
    "def get_column_counts_with_frequency_limit(df, frequency_limit=None):\n",
    "    # column_id, data, count\n",
    "    cols = ['_c%d' % i for i in CAT_COLS]\n",
    "    df = (df\n",
    "          .select(posexplode(array(*cols)))\n",
    "          .withColumnRenamed('pos', 'column_id')\n",
    "          .withColumnRenamed('col', 'data')\n",
    "          .filter('data is not null')\n",
    "          .groupBy('column_id', 'data')\n",
    "          .count())\n",
    "\n",
    "    if frequency_limit:\n",
    "        frequency_limit = frequency_limit.split(\",\")\n",
    "        exclude = []\n",
    "        default_limit = None\n",
    "        for fl in frequency_limit:\n",
    "            frequency_pair = fl.split(\":\")\n",
    "            if len(frequency_pair) == 1:\n",
    "                default_limit = int(frequency_pair[0])\n",
    "            elif len(frequency_pair) == 2:\n",
    "                df = df.filter((col('column_id') != int(frequency_pair[0]) - CAT_COLS[0]) | (\n",
    "                            col('count') >= int(frequency_pair[1])))\n",
    "                exclude.append(int(frequency_pair[0]))\n",
    "        if default_limit:\n",
    "            remain = [x - CAT_COLS[0] for x in CAT_COLS if x not in exclude]\n",
    "            df = df.filter((~col('column_id').isin(remain)) | (col('count') >= default_limit))\n",
    "            # for comparing isin and separate filter\n",
    "            # for i in remain:\n",
    "            #     df = df.filter((col('column_id') != i - CAT_COLS[0]) | (col('count') >= default_limit))\n",
    "    return df"
   ]
  }
 ],
 "metadata": {
  "kernelspec": {
   "display_name": "Python 3",
   "language": "python",
   "name": "python3"
  },
  "language_info": {
   "codemirror_mode": {
    "name": "ipython",
    "version": 3
   },
   "file_extension": ".py",
   "mimetype": "text/x-python",
   "name": "python",
   "nbconvert_exporter": "python",
   "pygments_lexer": "ipython3",
   "version": "3.7.5"
  }
 },
 "nbformat": 4,
 "nbformat_minor": 2
}
